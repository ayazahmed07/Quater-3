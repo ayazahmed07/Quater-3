{
  "nbformat": 4,
  "nbformat_minor": 0,
  "metadata": {
    "colab": {
      "provenance": [],
      "gpuType": "T4",
      "authorship_tag": "ABX9TyMayvNU88OkSfyRbFG2WEii",
      "include_colab_link": true
    },
    "kernelspec": {
      "name": "python3",
      "display_name": "Python 3"
    },
    "language_info": {
      "name": "python"
    }
  },
  "cells": [
    {
      "cell_type": "markdown",
      "metadata": {
        "id": "view-in-github",
        "colab_type": "text"
      },
      "source": [
        "<a href=\"https://colab.research.google.com/github/ayazahmed07/Quater-3/blob/main/Class1.ipynb\" target=\"_parent\"><img src=\"https://colab.research.google.com/assets/colab-badge.svg\" alt=\"Open In Colab\"/></a>"
      ]
    },
    {
      "cell_type": "markdown",
      "source": [
        "#Simple Print Hellow World\n"
      ],
      "metadata": {
        "id": "qvqArtZKDti9"
      }
    },
    {
      "cell_type": "code",
      "execution_count": 61,
      "metadata": {
        "colab": {
          "base_uri": "https://localhost:8080/"
        },
        "id": "1ik02uuCCAqw",
        "outputId": "794de82b-8fcf-4958-f7fc-33ff5c80fa86"
      },
      "outputs": [
        {
          "output_type": "stream",
          "name": "stdout",
          "text": [
            "Hellow World\n"
          ]
        }
      ],
      "source": [
        "print(\"Hellow World\")"
      ]
    },
    {
      "cell_type": "code",
      "source": [
        "print(\"Hellow python\")"
      ],
      "metadata": {
        "colab": {
          "base_uri": "https://localhost:8080/"
        },
        "id": "B1Eh-8tqDG-1",
        "outputId": "0112338e-a9ee-424d-8538-47502f7ef843"
      },
      "execution_count": 62,
      "outputs": [
        {
          "output_type": "stream",
          "name": "stdout",
          "text": [
            "Hellow python\n"
          ]
        }
      ]
    },
    {
      "cell_type": "code",
      "source": [
        "print(\"Hellow mic check\")"
      ],
      "metadata": {
        "colab": {
          "base_uri": "https://localhost:8080/"
        },
        "id": "aczzSe4QDLUt",
        "outputId": "d42ad7c8-8ace-479f-9356-c93c81d4a544"
      },
      "execution_count": 63,
      "outputs": [
        {
          "output_type": "stream",
          "name": "stdout",
          "text": [
            "Hellow mic check\n"
          ]
        }
      ]
    },
    {
      "cell_type": "code",
      "source": [
        "full_name: str = \"Ayaz Ahmed\"\n",
        "print(full_name)"
      ],
      "metadata": {
        "id": "9BbpSky3Dir0",
        "colab": {
          "base_uri": "https://localhost:8080/"
        },
        "outputId": "bb7d232f-97b8-40e1-ad80-05028fa58c47"
      },
      "execution_count": 64,
      "outputs": [
        {
          "output_type": "stream",
          "name": "stdout",
          "text": [
            "Ayaz Ahmed\n"
          ]
        }
      ]
    },
    {
      "cell_type": "code",
      "source": [
        "any_number : int = \"333\"\n",
        "print(type(any_number))"
      ],
      "metadata": {
        "colab": {
          "base_uri": "https://localhost:8080/"
        },
        "id": "207_P_LYVkt0",
        "outputId": "f080a12b-91b2-4120-a109-d481773cc753"
      },
      "execution_count": 65,
      "outputs": [
        {
          "output_type": "stream",
          "name": "stdout",
          "text": [
            "<class 'str'>\n"
          ]
        }
      ]
    },
    {
      "cell_type": "code",
      "source": [
        "float_number : float = 3.33\n",
        "print(float_number)"
      ],
      "metadata": {
        "colab": {
          "base_uri": "https://localhost:8080/"
        },
        "id": "goG7JDWJWS66",
        "outputId": "ad3095b8-5b19-47a4-d6a4-b640a5c1885f"
      },
      "execution_count": 66,
      "outputs": [
        {
          "output_type": "stream",
          "name": "stdout",
          "text": [
            "3.33\n"
          ]
        }
      ]
    },
    {
      "cell_type": "code",
      "source": [
        "is_teacher: bool = True\n",
        "print(type(is_teacher))\n"
      ],
      "metadata": {
        "colab": {
          "base_uri": "https://localhost:8080/"
        },
        "id": "w8BQRzONW4vy",
        "outputId": "90c531f7-b243-4de5-c56d-7ee6beb4282a"
      },
      "execution_count": 67,
      "outputs": [
        {
          "output_type": "stream",
          "name": "stdout",
          "text": [
            "<class 'bool'>\n"
          ]
        }
      ]
    },
    {
      "cell_type": "code",
      "source": [
        "first_name: str = \"Ayaz\"\n",
        "last_name: str = \"Ahmed\"\n",
        "full_name: str = first_name + \" \" + last_name\n",
        "print(full_name)"
      ],
      "metadata": {
        "colab": {
          "base_uri": "https://localhost:8080/"
        },
        "id": "2VxksWwOX6R6",
        "outputId": "2c8cb1a2-8a85-4c91-f42a-59d344320693"
      },
      "execution_count": 68,
      "outputs": [
        {
          "output_type": "stream",
          "name": "stdout",
          "text": [
            "Ayaz Ahmed\n"
          ]
        }
      ]
    },
    {
      "cell_type": "code",
      "source": [
        "first_name: str = \"bhai\"\n",
        "last_name: str = \"Ahmed\"\n",
        "full_name: str = f\"{first_name} {last_name}\"\n",
        "print(full_name)"
      ],
      "metadata": {
        "colab": {
          "base_uri": "https://localhost:8080/"
        },
        "id": "YrXrpcopYq-K",
        "outputId": "5acd7caa-2949-4ca5-8404-d6c8b367a8e3"
      },
      "execution_count": 69,
      "outputs": [
        {
          "output_type": "stream",
          "name": "stdout",
          "text": [
            "bhai Ahmed\n"
          ]
        }
      ]
    },
    {
      "cell_type": "code",
      "source": [
        "#To use a value dynamicaly we use f string\n",
        "qtr: str = \"Ayaz\"\n",
        "achievement: str = f\"\"\"Thrilled to share {qtr} have\n",
        "passed Q2 exam!\n",
        "line break\"\"\"\n",
        "print(achievement)\n"
      ],
      "metadata": {
        "colab": {
          "base_uri": "https://localhost:8080/"
        },
        "id": "H2DxXJezZZct",
        "outputId": "2ed22e55-f81f-481c-9507-6841e7c8d42a"
      },
      "execution_count": 79,
      "outputs": [
        {
          "output_type": "stream",
          "name": "stdout",
          "text": [
            "Thrilled to share Ayaz have \n",
            "passed Q2 exam! \n",
            "line break\n"
          ]
        }
      ]
    },
    {
      "cell_type": "code",
      "source": [
        "a: int = 5\n",
        "b: int = 2\n",
        "print(\"a + b =\", a + b)\n",
        "print(\"a - b =\", a - b)\n",
        "print(\"a * b =\", a * b)\n",
        "print(\"a / b =\", a / b)\n",
        "print(\"a % b =\", a % b)\n",
        "print(\"a // b =\", a // b)\n",
        "print(\"a ** b =\", a ** b)\n"
      ],
      "metadata": {
        "colab": {
          "base_uri": "https://localhost:8080/"
        },
        "id": "fGBy84XnbBdM",
        "outputId": "0a5d512b-4080-4efa-fb55-f406c2c2c60a"
      },
      "execution_count": 5,
      "outputs": [
        {
          "output_type": "stream",
          "name": "stdout",
          "text": [
            "a + b = 7\n",
            "a - b = 3\n",
            "a * b = 10\n",
            "a / b = 2.5\n",
            "a % b = 1\n",
            "a // b = 2\n",
            "a ** b = 25\n"
          ]
        }
      ]
    }
  ]
}