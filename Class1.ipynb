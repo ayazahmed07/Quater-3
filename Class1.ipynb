{
  "nbformat": 4,
  "nbformat_minor": 0,
  "metadata": {
    "colab": {
      "provenance": [],
      "gpuType": "T4",
      "collapsed_sections": [
        "qvqArtZKDti9",
        "zad18sQ9Yl48"
      ],
      "authorship_tag": "ABX9TyP7/p7Wa4WM+XutnC2aGQse",
      "include_colab_link": true
    },
    "kernelspec": {
      "name": "python3",
      "display_name": "Python 3"
    },
    "language_info": {
      "name": "python"
    }
  },
  "cells": [
    {
      "cell_type": "markdown",
      "metadata": {
        "id": "view-in-github",
        "colab_type": "text"
      },
      "source": [
        "<a href=\"https://colab.research.google.com/github/ayazahmed07/Quater-3/blob/main/Class1.ipynb\" target=\"_parent\"><img src=\"https://colab.research.google.com/assets/colab-badge.svg\" alt=\"Open In Colab\"/></a>"
      ]
    },
    {
      "cell_type": "markdown",
      "source": [
        "#CLASS 1 dated 22-FEB-2025 \"Simple Print Hellow World\"\n"
      ],
      "metadata": {
        "id": "qvqArtZKDti9"
      }
    },
    {
      "cell_type": "code",
      "execution_count": 44,
      "metadata": {
        "colab": {
          "base_uri": "https://localhost:8080/"
        },
        "id": "1ik02uuCCAqw",
        "outputId": "e0296de8-1e78-492c-fd0f-77ae09606695"
      },
      "outputs": [
        {
          "output_type": "stream",
          "name": "stdout",
          "text": [
            "Hellow World\n"
          ]
        }
      ],
      "source": [
        "print(\"Hellow World\")"
      ]
    },
    {
      "cell_type": "code",
      "source": [
        "print(\"Hellow python\")"
      ],
      "metadata": {
        "colab": {
          "base_uri": "https://localhost:8080/"
        },
        "id": "B1Eh-8tqDG-1",
        "outputId": "c1e2d3b9-04f7-44aa-9615-babe9cc05ca7"
      },
      "execution_count": 45,
      "outputs": [
        {
          "output_type": "stream",
          "name": "stdout",
          "text": [
            "Hellow python\n"
          ]
        }
      ]
    },
    {
      "cell_type": "code",
      "source": [
        "print(\"Hellow mic check\")"
      ],
      "metadata": {
        "colab": {
          "base_uri": "https://localhost:8080/"
        },
        "id": "aczzSe4QDLUt",
        "outputId": "d67dcedf-b24e-407e-b9d4-cdb89e7aec8c"
      },
      "execution_count": 46,
      "outputs": [
        {
          "output_type": "stream",
          "name": "stdout",
          "text": [
            "Hellow mic check\n"
          ]
        }
      ]
    },
    {
      "cell_type": "code",
      "source": [
        "full_name: str = \"Ayaz Ahmed\"\n",
        "print(full_name)"
      ],
      "metadata": {
        "id": "9BbpSky3Dir0",
        "colab": {
          "base_uri": "https://localhost:8080/"
        },
        "outputId": "94b34a77-c398-4671-c205-eacec44aad0a"
      },
      "execution_count": 47,
      "outputs": [
        {
          "output_type": "stream",
          "name": "stdout",
          "text": [
            "Ayaz Ahmed\n"
          ]
        }
      ]
    },
    {
      "cell_type": "code",
      "source": [
        "any_number : int = \"333\"\n",
        "print(type(any_number))"
      ],
      "metadata": {
        "colab": {
          "base_uri": "https://localhost:8080/"
        },
        "id": "207_P_LYVkt0",
        "outputId": "173b70c5-f215-4887-e18b-0857271646a7"
      },
      "execution_count": 48,
      "outputs": [
        {
          "output_type": "stream",
          "name": "stdout",
          "text": [
            "<class 'str'>\n"
          ]
        }
      ]
    },
    {
      "cell_type": "code",
      "source": [
        "float_number : float = 3.33\n",
        "print(float_number)"
      ],
      "metadata": {
        "colab": {
          "base_uri": "https://localhost:8080/"
        },
        "id": "goG7JDWJWS66",
        "outputId": "4e09e81d-bfab-4fa7-e0db-1859627f62e9"
      },
      "execution_count": 49,
      "outputs": [
        {
          "output_type": "stream",
          "name": "stdout",
          "text": [
            "3.33\n"
          ]
        }
      ]
    },
    {
      "cell_type": "code",
      "source": [
        "is_teacher: bool = True\n",
        "print(type(is_teacher))\n"
      ],
      "metadata": {
        "colab": {
          "base_uri": "https://localhost:8080/"
        },
        "id": "w8BQRzONW4vy",
        "outputId": "92397a99-c36c-4f84-f8fd-bd2b091e3b17"
      },
      "execution_count": 50,
      "outputs": [
        {
          "output_type": "stream",
          "name": "stdout",
          "text": [
            "<class 'bool'>\n"
          ]
        }
      ]
    },
    {
      "cell_type": "code",
      "source": [
        "# @title Default title text\n",
        "first_name: str = \"Ayaz\"\n",
        "last_name: str = \"Ahmed\"\n",
        "full_name: str = first_name + \" \" + last_name\n",
        "print(full_name)"
      ],
      "metadata": {
        "colab": {
          "base_uri": "https://localhost:8080/"
        },
        "id": "2VxksWwOX6R6",
        "outputId": "c0b8b7c3-b280-4797-cf96-eebffe52a212"
      },
      "execution_count": 51,
      "outputs": [
        {
          "output_type": "stream",
          "name": "stdout",
          "text": [
            "Ayaz Ahmed\n"
          ]
        }
      ]
    },
    {
      "cell_type": "code",
      "source": [
        "first_name: str = \"bhai\"\n",
        "last_name: str = \"Ahmed\"\n",
        "full_name: str = f\"{first_name} {last_name}\"\n",
        "print(full_name)"
      ],
      "metadata": {
        "colab": {
          "base_uri": "https://localhost:8080/"
        },
        "id": "YrXrpcopYq-K",
        "outputId": "7d2936b0-3459-49c8-efeb-f4bbc2eb6c1c"
      },
      "execution_count": 52,
      "outputs": [
        {
          "output_type": "stream",
          "name": "stdout",
          "text": [
            "bhai Ahmed\n"
          ]
        }
      ]
    },
    {
      "cell_type": "code",
      "source": [
        "#To use a value dynamicaly we use f string\n",
        "qtr: str = \"Ayaz\"\n",
        "achievement: str = f\"\"\"Thrilled to share {qtr} have\n",
        "passed Q2 exam!\n",
        "line break\"\"\"\n",
        "print(id(achievement))\n"
      ],
      "metadata": {
        "colab": {
          "base_uri": "https://localhost:8080/"
        },
        "id": "H2DxXJezZZct",
        "outputId": "6518d984-3986-4ec9-b96c-3aa22b2138d0"
      },
      "execution_count": 53,
      "outputs": [
        {
          "output_type": "stream",
          "name": "stdout",
          "text": [
            "133734169504416\n"
          ]
        }
      ]
    },
    {
      "cell_type": "code",
      "source": [
        "a: int = 5\n",
        "b: int = 2\n",
        "print(\"a + b =\", a + b)\n",
        "print(\"a - b =\", a - b)\n",
        "print(\"a * b =\", a * b)\n",
        "print(\"a / b =\", a / b)\n",
        "print(\"a % b =\", a % b)\n",
        "print(\"a // b =\", a // b)\n",
        "print(\"a ** b =\", a ** b)\n"
      ],
      "metadata": {
        "colab": {
          "base_uri": "https://localhost:8080/"
        },
        "id": "fGBy84XnbBdM",
        "outputId": "4954001a-c7b2-48c5-8111-c3ec9c1377d5"
      },
      "execution_count": 54,
      "outputs": [
        {
          "output_type": "stream",
          "name": "stdout",
          "text": [
            "a + b = 7\n",
            "a - b = 3\n",
            "a * b = 10\n",
            "a / b = 2.5\n",
            "a % b = 1\n",
            "a // b = 2\n",
            "a ** b = 25\n"
          ]
        }
      ]
    },
    {
      "cell_type": "code",
      "source": [
        "fruits = [\"Mango\", \"Banana\", \"Grapes\"]\n",
        "print(fruits)\n",
        "print(\"Length\",len(fruits))"
      ],
      "metadata": {
        "colab": {
          "base_uri": "https://localhost:8080/"
        },
        "id": "S3plagyoeBoi",
        "outputId": "ed51b2d6-4c61-4a0f-aab5-f1d16672a7d2"
      },
      "execution_count": 55,
      "outputs": [
        {
          "output_type": "stream",
          "name": "stdout",
          "text": [
            "['Mango', 'Banana', 'Grapes']\n",
            "Length 3\n"
          ]
        }
      ]
    },
    {
      "cell_type": "code",
      "source": [
        "fruits = [\"Mango\", \"Banana\", \"Grapes\"]\n",
        "print(fruits[0:3])\n",
        "print(fruits)"
      ],
      "metadata": {
        "colab": {
          "base_uri": "https://localhost:8080/"
        },
        "id": "cLCiXn-Jetis",
        "outputId": "51552eef-9fa0-4fd2-e239-5006d88d6f42"
      },
      "execution_count": 56,
      "outputs": [
        {
          "output_type": "stream",
          "name": "stdout",
          "text": [
            "['Mango', 'Banana', 'Grapes']\n",
            "['Mango', 'Banana', 'Grapes']\n"
          ]
        }
      ]
    },
    {
      "cell_type": "markdown",
      "source": [
        "#CLASS 2 dated 01-March-2025 \"JOIN\" \"REPLACE\" \"IS OPERATOR\""
      ],
      "metadata": {
        "id": "zad18sQ9Yl48"
      }
    },
    {
      "cell_type": "code",
      "source": [
        "criket_won = \"Pakistan won all the matches\"\n",
        "print(criket_won)"
      ],
      "metadata": {
        "colab": {
          "base_uri": "https://localhost:8080/"
        },
        "id": "ZYvew3-CZx2j",
        "outputId": "77094541-d41b-4301-d1e6-e37cb0502725"
      },
      "execution_count": 57,
      "outputs": [
        {
          "output_type": "stream",
          "name": "stdout",
          "text": [
            "Pakistan won all the matches\n"
          ]
        }
      ]
    },
    {
      "cell_type": "code",
      "source": [
        "cricket_team = \", \".join([\"Pakistan, India, USA\"])\n",
        "print(type(cricket_team))"
      ],
      "metadata": {
        "colab": {
          "base_uri": "https://localhost:8080/"
        },
        "id": "9-tGBx6yY6gW",
        "outputId": "430a5350-50af-42c8-b155-0f0d5678cfdf"
      },
      "execution_count": 58,
      "outputs": [
        {
          "output_type": "stream",
          "name": "stdout",
          "text": [
            "<class 'str'>\n"
          ]
        }
      ]
    },
    {
      "cell_type": "code",
      "source": [
        "name = \"Ayaz ahmed\"\n",
        "print(len(name))"
      ],
      "metadata": {
        "colab": {
          "base_uri": "https://localhost:8080/"
        },
        "id": "BR3SACA-Zh8l",
        "outputId": "d182a356-6f88-4c63-b9ce-5a6c23a50b6d"
      },
      "execution_count": 59,
      "outputs": [
        {
          "output_type": "stream",
          "name": "stdout",
          "text": [
            "10\n"
          ]
        }
      ]
    },
    {
      "cell_type": "code",
      "source": [
        "name = \"Ayaz\"\n",
        "print(id(name))"
      ],
      "metadata": {
        "colab": {
          "base_uri": "https://localhost:8080/"
        },
        "id": "EHEyd-GBaJ6c",
        "outputId": "a1361959-4dd4-4036-a2a6-accba910bb5e"
      },
      "execution_count": 60,
      "outputs": [
        {
          "output_type": "stream",
          "name": "stdout",
          "text": [
            "133734169625840\n"
          ]
        }
      ]
    },
    {
      "cell_type": "code",
      "source": [
        "import sys\n",
        "\n",
        "a = sys.intern(\"Hellow world\") # sys = system (Specail memory Pool) store a value in a memory and if same value happens again then it stores on same memory\n",
        "b = sys.intern(\"Hellow world\")\n",
        "print(id(a))\n",
        "print(id(b))\n",
        "print(a is b) # is operator check for same memory i.e id"
      ],
      "metadata": {
        "colab": {
          "base_uri": "https://localhost:8080/"
        },
        "id": "mXXO2KOVaod1",
        "outputId": "57c1dcd7-7ab3-43f7-b283-8d742c817fac"
      },
      "execution_count": 61,
      "outputs": [
        {
          "output_type": "stream",
          "name": "stdout",
          "text": [
            "133734169633200\n",
            "133734169633200\n",
            "True\n"
          ]
        }
      ]
    },
    {
      "cell_type": "code",
      "source": [
        "string_methods = dir(list)\n",
        "\n",
        "filtered_methods = [method for method in string_methods if not method.startswith(\"__\")]\n",
        "\n",
        "filtered_methods"
      ],
      "metadata": {
        "colab": {
          "base_uri": "https://localhost:8080/"
        },
        "id": "Mwz3Hp0wdrGs",
        "outputId": "d4b86332-bf37-42c0-aa4c-296b48baec3d"
      },
      "execution_count": 62,
      "outputs": [
        {
          "output_type": "execute_result",
          "data": {
            "text/plain": [
              "['append',\n",
              " 'clear',\n",
              " 'copy',\n",
              " 'count',\n",
              " 'extend',\n",
              " 'index',\n",
              " 'insert',\n",
              " 'pop',\n",
              " 'remove',\n",
              " 'reverse',\n",
              " 'sort']"
            ]
          },
          "metadata": {},
          "execution_count": 62
        }
      ]
    },
    {
      "cell_type": "code",
      "source": [
        "fruits: list = [\"Mango\", \"Apple\", \"Banana\"]\n",
        "# print(fruits[0:2]) # starts with o index and end before 2nd index i.e Mango and Apple\n",
        "# fruits.append(\"Orange\") # add only 1 value at end\n",
        "fruits.extend([\"Watermelon\", \"Kiwi\"]) # add multiple value in a list\n",
        "fruits.pop(1) #remove index numbwer value\n",
        "print(fruits) #we can change list"
      ],
      "metadata": {
        "colab": {
          "base_uri": "https://localhost:8080/"
        },
        "id": "dp14fGygiI7L",
        "outputId": "ed8d3afa-7fa4-4387-d389-eb534a741686"
      },
      "execution_count": 63,
      "outputs": [
        {
          "output_type": "stream",
          "name": "stdout",
          "text": [
            "['Mango', 'Banana', 'Watermelon', 'Kiwi']\n"
          ]
        }
      ]
    },
    {
      "cell_type": "code",
      "source": [
        "person : dict = {\n",
        "    \"name\": \"Ali\",\n",
        "    \"age\": 23,\n",
        "    \"isTeacher\" : True,\n",
        "    \"class\": {\n",
        "        \"timings\": \"2 to 5\",\n",
        "        \"day\": \"Saturday\"\n",
        "\n",
        "    }\n",
        "\n",
        "} #use curly braces in object / dict = dictonary\n",
        "\n",
        "print(person[\"name\"])\n",
        "print(person[\"class\"][\"day\"]) # we use key alwasy with inverted commas repat if nested dictonery"
      ],
      "metadata": {
        "colab": {
          "base_uri": "https://localhost:8080/"
        },
        "id": "rhMuog2VlO0q",
        "outputId": "958add0c-b18d-4a70-a6e4-60c20d68344a"
      },
      "execution_count": 64,
      "outputs": [
        {
          "output_type": "stream",
          "name": "stdout",
          "text": [
            "Ali\n",
            "Saturday\n"
          ]
        }
      ]
    },
    {
      "cell_type": "code",
      "source": [
        "import random\n",
        "\n",
        "babar_score: int = random.randint(0, 120)\n",
        "\n",
        "# print(\"babar azam score\", babar_score)\n",
        "\n",
        "if(babar_score > 50 ):\n",
        "  print(\"😘\" \"babar azam is King\", babar_score) #windows + .\n",
        "else:\n",
        "  print(\"🚓\" \"babar azam is not King with score\", babar_score)\n"
      ],
      "metadata": {
        "colab": {
          "base_uri": "https://localhost:8080/"
        },
        "id": "FKL3RlAlm8Pz",
        "outputId": "9d12d77e-42a2-4848-cb8a-ad07e578c5b0"
      },
      "execution_count": 65,
      "outputs": [
        {
          "output_type": "stream",
          "name": "stdout",
          "text": [
            "🚓babar azam is not King with score 15\n"
          ]
        }
      ]
    },
    {
      "cell_type": "code",
      "source": [
        "#Tuples \"type of list\" but we can not change it later (list is mutable and may be change) this is imutable\n",
        "cricket_team_players = (\"Virat\", \"Babar\", \"Rizwan\", \"Shaheen\")\n",
        "print(cricket_team_players[2])"
      ],
      "metadata": {
        "colab": {
          "base_uri": "https://localhost:8080/"
        },
        "id": "2Oxf-A4Howxy",
        "outputId": "de8eff5c-b373-484a-d780-fc62b83cdab7"
      },
      "execution_count": 66,
      "outputs": [
        {
          "output_type": "stream",
          "name": "stdout",
          "text": [
            "Rizwan\n"
          ]
        }
      ]
    },
    {
      "cell_type": "code",
      "source": [
        "value: set = {1,6,3,4, 1, 2, 8, 10, 9} # return value with unique number it remove duplicates values\n",
        "print(type(value))\n",
        "print(value)\n",
        "\n",
        "# ASSIGNMENTS CLASS 2 - Step 8 Modules Functions - Unit Converter"
      ],
      "metadata": {
        "colab": {
          "base_uri": "https://localhost:8080/"
        },
        "id": "IZG__IAgp3rK",
        "outputId": "75b111ab-a32a-4c99-b1d9-7435758b7ccb"
      },
      "execution_count": 67,
      "outputs": [
        {
          "output_type": "stream",
          "name": "stdout",
          "text": [
            "<class 'set'>\n",
            "{1, 2, 3, 4, 6, 8, 9, 10}\n"
          ]
        }
      ]
    },
    {
      "cell_type": "markdown",
      "source": [],
      "metadata": {
        "id": "wWaspF9jrjCK"
      }
    },
    {
      "cell_type": "markdown",
      "source": [
        "# CLASS 3 dated 08-March2025 - SET ==> LIST ==> TUPLE"
      ],
      "metadata": {
        "id": "gdEUfkz1coZn"
      }
    },
    {
      "cell_type": "code",
      "source": [
        "# list are mutable that can be change\n",
        "item_list: list = [\"Mango\", \"Banana\", \"Tea\"]"
      ],
      "metadata": {
        "id": "A053o4fxd3Ux"
      },
      "execution_count": 68,
      "outputs": []
    },
    {
      "cell_type": "code",
      "source": [
        "# tuples are imutable that can not be change\n",
        "\n",
        "item_tuple = (\"Mango\", \"Banana\", \"Tea\")\n",
        "item_tuple"
      ],
      "metadata": {
        "colab": {
          "base_uri": "https://localhost:8080/"
        },
        "id": "SmM2mvM6dAzt",
        "outputId": "1dca03fb-7585-433f-e1d1-b554073a8d44"
      },
      "execution_count": 69,
      "outputs": [
        {
          "output_type": "execute_result",
          "data": {
            "text/plain": [
              "('Mango', 'Banana', 'Tea')"
            ]
          },
          "metadata": {},
          "execution_count": 69
        }
      ]
    },
    {
      "cell_type": "code",
      "source": [
        "# Sets\n",
        "# Unorder\n",
        "# Mutable\n",
        "# Unchangalbe\n",
        "\n",
        "item_set = {\"Mango\", \"Banana\", \"Tea\"}\n",
        "item_set"
      ],
      "metadata": {
        "colab": {
          "base_uri": "https://localhost:8080/"
        },
        "id": "OvR7hm1odSEH",
        "outputId": "d0d24f1c-d306-42c5-b16d-71895ae06a24"
      },
      "execution_count": 70,
      "outputs": [
        {
          "output_type": "execute_result",
          "data": {
            "text/plain": [
              "{'Banana', 'Mango', 'Tea'}"
            ]
          },
          "metadata": {},
          "execution_count": 70
        }
      ]
    },
    {
      "cell_type": "code",
      "source": [
        "#frozen sets are imutable\n",
        "#imutable that can not be changes\n",
        "\n",
        "iftar_items: set = {\"Mango\", \"Banana\", \"Tea\"}\n",
        "iftar_items_frozenset = frozenset(iftar_items)\n",
        "iftar_items_frozenset\n",
        "\n",
        "print(type(iftar_items_frozenset))"
      ],
      "metadata": {
        "colab": {
          "base_uri": "https://localhost:8080/"
        },
        "id": "7Dzx8WWndeXN",
        "outputId": "883adf49-e397-45d1-d794-26a572dfdc67"
      },
      "execution_count": 71,
      "outputs": [
        {
          "output_type": "stream",
          "name": "stdout",
          "text": [
            "<class 'frozenset'>\n"
          ]
        }
      ]
    },
    {
      "cell_type": "code",
      "source": [
        "# username = input(\"Enter your name\")\n",
        "# print(username)\n",
        "\n",
        "num1: int = input(\"Enter your 1st number: \")\n",
        "num2: int = input(\"Enter your 2nd number: \")\n",
        "\n",
        "\n",
        "sum: int = int(num2) + int(num1)\n",
        "print(sum)"
      ],
      "metadata": {
        "colab": {
          "base_uri": "https://localhost:8080/"
        },
        "id": "esD30Sqfe-EA",
        "outputId": "f1cce38f-91ac-4853-eae1-4281537c89ee"
      },
      "execution_count": 72,
      "outputs": [
        {
          "output_type": "stream",
          "name": "stdout",
          "text": [
            "Enter your 1st number: 1\n",
            "Enter your 2nd number: 8\n",
            "9\n"
          ]
        }
      ]
    },
    {
      "cell_type": "code",
      "source": [
        "items: list = [\"Tea\", \"Mango\", \"Banana\"]\n",
        "fixeditems = tuple(items)\n",
        "fixeditems\n",
        "\n",
        "# if you want to remove duplicate value from list then 1st convert the list into set and then again convert it into list\n",
        "# it will remove duplicate items from list"
      ],
      "metadata": {
        "colab": {
          "base_uri": "https://localhost:8080/"
        },
        "id": "PoECJizrhBFO",
        "outputId": "5134580d-cddb-45ee-99db-7eed9e1eaf33"
      },
      "execution_count": 73,
      "outputs": [
        {
          "output_type": "execute_result",
          "data": {
            "text/plain": [
              "('Tea', 'Mango', 'Banana')"
            ]
          },
          "metadata": {},
          "execution_count": 73
        }
      ]
    },
    {
      "cell_type": "code",
      "source": [
        "# Implicit and Explicit Casting\n",
        "# Imlicit casting which python compiler changes\n",
        "# Explicit casting which programer changes\n",
        "\n",
        "num1: int = 10;\n",
        "num2: float = 10.23;\n",
        "\n",
        "sum: int = num1 + num2\n",
        "print(sum)\n",
        "\n",
        "#Explicit casting\n",
        "\n",
        "\n",
        "num1: int = 10;\n",
        "num2 = \"1023\";\n",
        "\n",
        "sum: int = num1 + int(num2)\n",
        "print(sum)\n"
      ],
      "metadata": {
        "colab": {
          "base_uri": "https://localhost:8080/"
        },
        "id": "iplmsMljkA89",
        "outputId": "3c8fb5a6-af18-4db0-f66b-1364eba27504"
      },
      "execution_count": 74,
      "outputs": [
        {
          "output_type": "stream",
          "name": "stdout",
          "text": [
            "20.23\n",
            "1033\n"
          ]
        }
      ]
    },
    {
      "cell_type": "code",
      "source": [
        "# Module is a simple py file\n",
        "\n",
        "import math\n",
        "# math.pi\n",
        "\n",
        "# print(math.sqrt(10))\n",
        "\n",
        "import random\n"
      ],
      "metadata": {
        "id": "Bb9PzF4Sl1Ul"
      },
      "execution_count": 75,
      "outputs": []
    },
    {
      "cell_type": "code",
      "source": [
        "# to install any external /third party pakacge / module we use mark of esclamation\n",
        "!pip install requests"
      ],
      "metadata": {
        "colab": {
          "base_uri": "https://localhost:8080/"
        },
        "collapsed": true,
        "id": "kXcoHmZ2nzlV",
        "outputId": "c4cb8727-99fc-4792-96ec-0408123152e4"
      },
      "execution_count": 76,
      "outputs": [
        {
          "output_type": "stream",
          "name": "stdout",
          "text": [
            "Requirement already satisfied: requests in /usr/local/lib/python3.11/dist-packages (2.32.3)\n",
            "Requirement already satisfied: charset-normalizer<4,>=2 in /usr/local/lib/python3.11/dist-packages (from requests) (3.4.1)\n",
            "Requirement already satisfied: idna<4,>=2.5 in /usr/local/lib/python3.11/dist-packages (from requests) (3.10)\n",
            "Requirement already satisfied: urllib3<3,>=1.21.1 in /usr/local/lib/python3.11/dist-packages (from requests) (2.3.0)\n",
            "Requirement already satisfied: certifi>=2017.4.17 in /usr/local/lib/python3.11/dist-packages (from requests) (2025.1.31)\n"
          ]
        }
      ]
    },
    {
      "cell_type": "code",
      "source": [
        "# import requests\n",
        "\n",
        "# response request.get(\"\")"
      ],
      "metadata": {
        "id": "Szbwc8cRoFZm"
      },
      "execution_count": 78,
      "outputs": []
    },
    {
      "cell_type": "code",
      "source": [
        "# to make a function we use def make f string to use a dynamic value\n",
        "def greeting(name: str) -> str:\n",
        "    print(f\"Hellow {name}\")\n",
        "\n",
        "greeting(\"Ali\")\n"
      ],
      "metadata": {
        "colab": {
          "base_uri": "https://localhost:8080/"
        },
        "id": "g8nq5SjJoUN8",
        "outputId": "991eeff1-6fdf-4aac-90d6-348da45afbc8"
      },
      "execution_count": 79,
      "outputs": [
        {
          "output_type": "stream",
          "name": "stdout",
          "text": [
            "Hellow Ali\n"
          ]
        }
      ]
    },
    {
      "cell_type": "code",
      "source": [
        "def sandwichmaker(bread: str, filling: str):\n",
        "    sandwhichbread = f\"{bread} Bread\"\n",
        "    filling = f\"{filling} Filling\"\n",
        "\n",
        "    complete_sandwich = f\"Your sandwich with {sandwhichbread} and {filling} is raedy to serve!\"\n",
        "\n",
        "    print(\"Inner Function\", complete_sandwich)\n",
        "    return complete_sandwich\n",
        "\n",
        "ali = sandwichmaker(\"Garlic\", \"Beef Patty\")\n",
        "print(ali)"
      ],
      "metadata": {
        "colab": {
          "base_uri": "https://localhost:8080/"
        },
        "id": "e2wlTJ3Zqfbd",
        "outputId": "122aa2bb-2d7d-4361-f685-6bc9c2d8b064"
      },
      "execution_count": 80,
      "outputs": [
        {
          "output_type": "stream",
          "name": "stdout",
          "text": [
            "Inner Function Your sandwich with Garlic Bread and Beef Patty Filling is raedy to serve!\n",
            "Your sandwich with Garlic Bread and Beef Patty Filling is raedy to serve!\n"
          ]
        }
      ]
    }
  ]
}