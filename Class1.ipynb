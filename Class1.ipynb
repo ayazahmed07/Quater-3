{
  "nbformat": 4,
  "nbformat_minor": 0,
  "metadata": {
    "colab": {
      "provenance": [],
      "gpuType": "T4",
      "authorship_tag": "ABX9TyNgvOnEDeo9mFieeff/312I",
      "include_colab_link": true
    },
    "kernelspec": {
      "name": "python3",
      "display_name": "Python 3"
    },
    "language_info": {
      "name": "python"
    }
  },
  "cells": [
    {
      "cell_type": "markdown",
      "metadata": {
        "id": "view-in-github",
        "colab_type": "text"
      },
      "source": [
        "<a href=\"https://colab.research.google.com/github/ayazahmed07/Quater-3/blob/main/Class1.ipynb\" target=\"_parent\"><img src=\"https://colab.research.google.com/assets/colab-badge.svg\" alt=\"Open In Colab\"/></a>"
      ]
    },
    {
      "cell_type": "markdown",
      "source": [
        "#CLASS 1 dated 22-FEB-2025 \"Simple Print Hellow World\"\n"
      ],
      "metadata": {
        "id": "qvqArtZKDti9"
      }
    },
    {
      "cell_type": "code",
      "execution_count": null,
      "metadata": {
        "colab": {
          "base_uri": "https://localhost:8080/"
        },
        "id": "1ik02uuCCAqw",
        "outputId": "2dd77dd1-d0c1-4f9d-970e-d04d7155f6a7"
      },
      "outputs": [
        {
          "output_type": "stream",
          "name": "stdout",
          "text": [
            "Hellow World\n"
          ]
        }
      ],
      "source": [
        "print(\"Hellow World\")"
      ]
    },
    {
      "cell_type": "code",
      "source": [
        "print(\"Hellow python\")"
      ],
      "metadata": {
        "colab": {
          "base_uri": "https://localhost:8080/"
        },
        "id": "B1Eh-8tqDG-1",
        "outputId": "d2ec0ad8-e3ab-4825-910b-3bb40bd9b483"
      },
      "execution_count": null,
      "outputs": [
        {
          "output_type": "stream",
          "name": "stdout",
          "text": [
            "Hellow python\n"
          ]
        }
      ]
    },
    {
      "cell_type": "code",
      "source": [
        "print(\"Hellow mic check\")"
      ],
      "metadata": {
        "colab": {
          "base_uri": "https://localhost:8080/"
        },
        "id": "aczzSe4QDLUt",
        "outputId": "05db7c1f-0d3d-4c2f-bebd-ff700dcd28d4"
      },
      "execution_count": null,
      "outputs": [
        {
          "output_type": "stream",
          "name": "stdout",
          "text": [
            "Hellow mic check\n"
          ]
        }
      ]
    },
    {
      "cell_type": "code",
      "source": [
        "full_name: str = \"Ayaz Ahmed\"\n",
        "print(full_name)"
      ],
      "metadata": {
        "id": "9BbpSky3Dir0",
        "colab": {
          "base_uri": "https://localhost:8080/"
        },
        "outputId": "4426dc7d-fa2e-4f8d-fd18-17aa4c8cd566"
      },
      "execution_count": null,
      "outputs": [
        {
          "output_type": "stream",
          "name": "stdout",
          "text": [
            "Ayaz Ahmed\n"
          ]
        }
      ]
    },
    {
      "cell_type": "code",
      "source": [
        "any_number : int = \"333\"\n",
        "print(type(any_number))"
      ],
      "metadata": {
        "colab": {
          "base_uri": "https://localhost:8080/"
        },
        "id": "207_P_LYVkt0",
        "outputId": "0eb32b4d-5da6-4559-f7dc-9af9fb58239f"
      },
      "execution_count": null,
      "outputs": [
        {
          "output_type": "stream",
          "name": "stdout",
          "text": [
            "<class 'str'>\n"
          ]
        }
      ]
    },
    {
      "cell_type": "code",
      "source": [
        "float_number : float = 3.33\n",
        "print(float_number)"
      ],
      "metadata": {
        "colab": {
          "base_uri": "https://localhost:8080/"
        },
        "id": "goG7JDWJWS66",
        "outputId": "3665f9ca-32eb-4649-f701-af9190275449"
      },
      "execution_count": null,
      "outputs": [
        {
          "output_type": "stream",
          "name": "stdout",
          "text": [
            "3.33\n"
          ]
        }
      ]
    },
    {
      "cell_type": "code",
      "source": [
        "is_teacher: bool = True\n",
        "print(type(is_teacher))\n"
      ],
      "metadata": {
        "colab": {
          "base_uri": "https://localhost:8080/"
        },
        "id": "w8BQRzONW4vy",
        "outputId": "c6e98634-a635-4b3e-ad77-484defe27815"
      },
      "execution_count": null,
      "outputs": [
        {
          "output_type": "stream",
          "name": "stdout",
          "text": [
            "<class 'bool'>\n"
          ]
        }
      ]
    },
    {
      "cell_type": "code",
      "source": [
        "# @title Default title text\n",
        "first_name: str = \"Ayaz\"\n",
        "last_name: str = \"Ahmed\"\n",
        "full_name: str = first_name + \" \" + last_name\n",
        "print(full_name)"
      ],
      "metadata": {
        "colab": {
          "base_uri": "https://localhost:8080/"
        },
        "id": "2VxksWwOX6R6",
        "outputId": "62536ede-c259-4ed7-df5e-235cdb9c6b5c"
      },
      "execution_count": null,
      "outputs": [
        {
          "output_type": "stream",
          "name": "stdout",
          "text": [
            "Ayaz Ahmed\n"
          ]
        }
      ]
    },
    {
      "cell_type": "code",
      "source": [
        "first_name: str = \"bhai\"\n",
        "last_name: str = \"Ahmed\"\n",
        "full_name: str = f\"{first_name} {last_name}\"\n",
        "print(full_name)"
      ],
      "metadata": {
        "colab": {
          "base_uri": "https://localhost:8080/"
        },
        "id": "YrXrpcopYq-K",
        "outputId": "d670eba2-0b58-465a-fdf0-ed24f300ae50"
      },
      "execution_count": null,
      "outputs": [
        {
          "output_type": "stream",
          "name": "stdout",
          "text": [
            "bhai Ahmed\n"
          ]
        }
      ]
    },
    {
      "cell_type": "code",
      "source": [
        "#To use a value dynamicaly we use f string\n",
        "qtr: str = \"Ayaz\"\n",
        "achievement: str = f\"\"\"Thrilled to share {qtr} have\n",
        "passed Q2 exam!\n",
        "line break\"\"\"\n",
        "print(id(achievement))\n"
      ],
      "metadata": {
        "colab": {
          "base_uri": "https://localhost:8080/"
        },
        "id": "H2DxXJezZZct",
        "outputId": "d1ed4515-c497-4962-9a05-0b3003e641b3"
      },
      "execution_count": null,
      "outputs": [
        {
          "output_type": "stream",
          "name": "stdout",
          "text": [
            "133778488247552\n"
          ]
        }
      ]
    },
    {
      "cell_type": "code",
      "source": [
        "a: int = 5\n",
        "b: int = 2\n",
        "print(\"a + b =\", a + b)\n",
        "print(\"a - b =\", a - b)\n",
        "print(\"a * b =\", a * b)\n",
        "print(\"a / b =\", a / b)\n",
        "print(\"a % b =\", a % b)\n",
        "print(\"a // b =\", a // b)\n",
        "print(\"a ** b =\", a ** b)\n"
      ],
      "metadata": {
        "colab": {
          "base_uri": "https://localhost:8080/"
        },
        "id": "fGBy84XnbBdM",
        "outputId": "97aa2d10-4b52-40c6-e455-caa5095721c1"
      },
      "execution_count": null,
      "outputs": [
        {
          "output_type": "stream",
          "name": "stdout",
          "text": [
            "a + b = 7\n",
            "a - b = 3\n",
            "a * b = 10\n",
            "a / b = 2.5\n",
            "a % b = 1\n",
            "a // b = 2\n",
            "a ** b = 25\n"
          ]
        }
      ]
    },
    {
      "cell_type": "code",
      "source": [
        "fruits = [\"Mango\", \"Banana\", \"Grapes\"]\n",
        "print(fruits)\n",
        "print(\"Length\",len(fruits))"
      ],
      "metadata": {
        "colab": {
          "base_uri": "https://localhost:8080/"
        },
        "id": "S3plagyoeBoi",
        "outputId": "287c5a32-3703-4d85-e047-06f0abed8bde"
      },
      "execution_count": null,
      "outputs": [
        {
          "output_type": "stream",
          "name": "stdout",
          "text": [
            "['Mango', 'Banana', 'Grapes']\n",
            "Length 3\n"
          ]
        }
      ]
    },
    {
      "cell_type": "code",
      "source": [
        "fruits = [\"Mango\", \"Banana\", \"Grapes\"]\n",
        "print(fruits[0:3])\n",
        "print(fruits)"
      ],
      "metadata": {
        "colab": {
          "base_uri": "https://localhost:8080/"
        },
        "id": "cLCiXn-Jetis",
        "outputId": "1fbc33a2-bc9f-472f-d1a1-6c72072fdae8"
      },
      "execution_count": null,
      "outputs": [
        {
          "output_type": "stream",
          "name": "stdout",
          "text": [
            "['Mango', 'Banana', 'Grapes']\n",
            "['Mango', 'Banana', 'Grapes']\n"
          ]
        }
      ]
    },
    {
      "cell_type": "markdown",
      "source": [
        "#CLASS 2 dated 01-March-2025 \"JOIN\" \"REPLACE\" \"IS OPERATOR\""
      ],
      "metadata": {
        "id": "zad18sQ9Yl48"
      }
    },
    {
      "cell_type": "code",
      "source": [
        "criket_won = \"Pakistan won all the matches\"\n",
        "print(criket_won)"
      ],
      "metadata": {
        "colab": {
          "base_uri": "https://localhost:8080/"
        },
        "id": "ZYvew3-CZx2j",
        "outputId": "8735a61e-3c37-4c1f-a9a7-215a862d8a84"
      },
      "execution_count": null,
      "outputs": [
        {
          "output_type": "stream",
          "name": "stdout",
          "text": [
            "Pakistan won all the matches\n"
          ]
        }
      ]
    },
    {
      "cell_type": "code",
      "source": [
        "cricket_team = \", \".join([\"Pakistan, India, USA\"])\n",
        "print(type(cricket_team))"
      ],
      "metadata": {
        "colab": {
          "base_uri": "https://localhost:8080/"
        },
        "id": "9-tGBx6yY6gW",
        "outputId": "0c183993-7067-4ff1-e2ef-5bffe141f888"
      },
      "execution_count": null,
      "outputs": [
        {
          "output_type": "stream",
          "name": "stdout",
          "text": [
            "<class 'str'>\n"
          ]
        }
      ]
    },
    {
      "cell_type": "code",
      "source": [
        "name = \"Ayaz ahmed\"\n",
        "print(len(name))"
      ],
      "metadata": {
        "colab": {
          "base_uri": "https://localhost:8080/"
        },
        "id": "BR3SACA-Zh8l",
        "outputId": "5f0a3b43-215d-40bf-c167-231489a486be"
      },
      "execution_count": null,
      "outputs": [
        {
          "output_type": "stream",
          "name": "stdout",
          "text": [
            "10\n"
          ]
        }
      ]
    },
    {
      "cell_type": "code",
      "source": [
        "name = \"Ayaz\"\n",
        "print(id(name))"
      ],
      "metadata": {
        "colab": {
          "base_uri": "https://localhost:8080/"
        },
        "id": "EHEyd-GBaJ6c",
        "outputId": "d9d0008c-b410-488a-c7b3-7dcf74f500c9"
      },
      "execution_count": null,
      "outputs": [
        {
          "output_type": "stream",
          "name": "stdout",
          "text": [
            "133778488333872\n"
          ]
        }
      ]
    },
    {
      "cell_type": "code",
      "source": [
        "import sys\n",
        "\n",
        "a = sys.intern(\"Hellow world\") # sys = system (Specail memory Pool) store a value in a memory and if same value happens again then it stores on same memory\n",
        "b = sys.intern(\"Hellow world\")\n",
        "print(id(a))\n",
        "print(id(b))\n",
        "print(a is b) # is operator check for same memory i.e id"
      ],
      "metadata": {
        "colab": {
          "base_uri": "https://localhost:8080/"
        },
        "id": "mXXO2KOVaod1",
        "outputId": "f2905822-a3ec-4e1b-e3e6-3f34fc729f9c"
      },
      "execution_count": null,
      "outputs": [
        {
          "output_type": "stream",
          "name": "stdout",
          "text": [
            "133778258812336\n",
            "133778258812336\n",
            "True\n"
          ]
        }
      ]
    },
    {
      "cell_type": "code",
      "source": [
        "string_methods = dir(list)\n",
        "\n",
        "filtered_methods = [method for method in string_methods if not method.startswith(\"__\")]\n",
        "\n",
        "filtered_methods"
      ],
      "metadata": {
        "colab": {
          "base_uri": "https://localhost:8080/"
        },
        "id": "Mwz3Hp0wdrGs",
        "outputId": "f990a307-4f40-4077-e557-ba06f50ae6ba"
      },
      "execution_count": null,
      "outputs": [
        {
          "output_type": "execute_result",
          "data": {
            "text/plain": [
              "['append',\n",
              " 'clear',\n",
              " 'copy',\n",
              " 'count',\n",
              " 'extend',\n",
              " 'index',\n",
              " 'insert',\n",
              " 'pop',\n",
              " 'remove',\n",
              " 'reverse',\n",
              " 'sort']"
            ]
          },
          "metadata": {},
          "execution_count": 68
        }
      ]
    },
    {
      "cell_type": "code",
      "source": [
        "fruits: list = [\"Mango\", \"Apple\", \"Banana\"]\n",
        "# print(fruits[0:2]) # starts with o index and end before 2nd index i.e Mango and Apple\n",
        "# fruits.append(\"Orange\") # add only 1 value at end\n",
        "fruits.extend([\"Watermelon\", \"Kiwi\"]) # add multiple value in a list\n",
        "fruits.pop(1) #remove index numbwer value\n",
        "print(fruits) #we can change list"
      ],
      "metadata": {
        "colab": {
          "base_uri": "https://localhost:8080/"
        },
        "id": "dp14fGygiI7L",
        "outputId": "de1cab7c-80dd-4b04-9fc4-b0effe586aa8"
      },
      "execution_count": null,
      "outputs": [
        {
          "output_type": "stream",
          "name": "stdout",
          "text": [
            "['Mango', 'Banana', 'Watermelon', 'Kiwi']\n"
          ]
        }
      ]
    },
    {
      "cell_type": "code",
      "source": [
        "person : dict = {\n",
        "    \"name\": \"Ali\",\n",
        "    \"age\": 23,\n",
        "    \"isTeacher\" : True,\n",
        "    \"class\": {\n",
        "        \"timings\": \"2 to 5\",\n",
        "        \"day\": \"Saturday\"\n",
        "\n",
        "    }\n",
        "\n",
        "} #use curly braces in object / dict = dictonary\n",
        "\n",
        "print(person[\"name\"])\n",
        "print(person[\"class\"][\"day\"]) # we use key alwasy with inverted commas repat if nested dictonery"
      ],
      "metadata": {
        "colab": {
          "base_uri": "https://localhost:8080/"
        },
        "id": "rhMuog2VlO0q",
        "outputId": "42da61bf-1dfe-48fd-b4fa-eec2ca52e408"
      },
      "execution_count": null,
      "outputs": [
        {
          "output_type": "stream",
          "name": "stdout",
          "text": [
            "Ali\n",
            "Saturday\n"
          ]
        }
      ]
    },
    {
      "cell_type": "code",
      "source": [
        "import random\n",
        "\n",
        "babar_score: int = random.randint(0, 120)\n",
        "\n",
        "# print(\"babar azam score\", babar_score)\n",
        "\n",
        "if(babar_score > 50 ):\n",
        "  print(\"😘\" \"babar azam is King\", babar_score) #windows + .\n",
        "else:\n",
        "  print(\"🚓\" \"babar azam is not King with score\", babar_score)\n"
      ],
      "metadata": {
        "colab": {
          "base_uri": "https://localhost:8080/"
        },
        "id": "FKL3RlAlm8Pz",
        "outputId": "0f7ac67b-eafb-463f-f88b-6784c332c17b"
      },
      "execution_count": null,
      "outputs": [
        {
          "output_type": "stream",
          "name": "stdout",
          "text": [
            "🚓babar azam is not King with score 14\n"
          ]
        }
      ]
    },
    {
      "cell_type": "code",
      "source": [
        "#Tuples \"type of list\" but we can not change it later (list is mutable and may be change) this is imutable\n",
        "cricket_team_players = (\"Virat\", \"Babar\", \"Rizwan\", \"Shaheen\")\n",
        "print(cricket_team_players[2])"
      ],
      "metadata": {
        "colab": {
          "base_uri": "https://localhost:8080/"
        },
        "id": "2Oxf-A4Howxy",
        "outputId": "79591465-41f8-4a2d-ac63-12111664e1a7"
      },
      "execution_count": null,
      "outputs": [
        {
          "output_type": "stream",
          "name": "stdout",
          "text": [
            "Rizwan\n"
          ]
        }
      ]
    },
    {
      "cell_type": "code",
      "source": [
        "value: set = {1,6,3,4, 1, 2, 8, 10, 9} # return value with unique number it remove duplicates values\n",
        "print(type(value))\n",
        "print(value)"
      ],
      "metadata": {
        "colab": {
          "base_uri": "https://localhost:8080/"
        },
        "id": "IZG__IAgp3rK",
        "outputId": "ee003645-4700-4842-fd91-16f22ac385ba"
      },
      "execution_count": null,
      "outputs": [
        {
          "output_type": "stream",
          "name": "stdout",
          "text": [
            "<class 'set'>\n",
            "{1, 2, 3, 4, 6, 8, 9, 10}\n"
          ]
        }
      ]
    },
    {
      "cell_type": "code",
      "source": [],
      "metadata": {
        "id": "QWBvmm10r5nT"
      },
      "execution_count": null,
      "outputs": []
    },
    {
      "cell_type": "markdown",
      "source": [
        "# ASSIGNMENTS CLASS 2 - Step 8 Modules Functions - Unit Converter"
      ],
      "metadata": {
        "id": "wWaspF9jrjCK"
      }
    }
  ]
}